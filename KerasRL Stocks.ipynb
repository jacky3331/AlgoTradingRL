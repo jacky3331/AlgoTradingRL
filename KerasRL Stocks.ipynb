{
 "cells": [
  {
   "cell_type": "markdown",
   "id": "f1d35e60",
   "metadata": {},
   "source": [
    "# Data Processing"
   ]
  },
  {
   "cell_type": "code",
   "execution_count": 1,
   "id": "4b7cd68e",
   "metadata": {},
   "outputs": [],
   "source": [
    "import pandas as pd\n",
    "import numpy as np\n",
    "import datetime\n",
    "import random\n",
    "import matplotlib.pyplot as plt\n",
    "\n",
    "import gym\n",
    "from gym_anytrading.envs import StocksEnv\n",
    "from finta import TA\n",
    "\n",
    "from stable_baselines3.common.vec_env import DummyVecEnv"
   ]
  },
  {
   "cell_type": "code",
   "execution_count": null,
   "id": "f52620fd",
   "metadata": {},
   "outputs": [],
   "source": []
  },
  {
   "cell_type": "code",
   "execution_count": null,
   "id": "5d8953eb",
   "metadata": {},
   "outputs": [],
   "source": []
  },
  {
   "cell_type": "code",
   "execution_count": null,
   "id": "9fd292ec",
   "metadata": {},
   "outputs": [],
   "source": []
  },
  {
   "cell_type": "code",
   "execution_count": null,
   "id": "67838945",
   "metadata": {},
   "outputs": [],
   "source": []
  },
  {
   "cell_type": "code",
   "execution_count": 6,
   "id": "2adc178a",
   "metadata": {},
   "outputs": [],
   "source": [
    "import pandas as pd\n",
    "\n",
    "df = pd.read_csv(\"apple.csv\")"
   ]
  },
  {
   "cell_type": "code",
   "execution_count": 5,
   "id": "201cc766",
   "metadata": {},
   "outputs": [
    {
     "data": {
      "text/html": [
       "<div>\n",
       "<style scoped>\n",
       "    .dataframe tbody tr th:only-of-type {\n",
       "        vertical-align: middle;\n",
       "    }\n",
       "\n",
       "    .dataframe tbody tr th {\n",
       "        vertical-align: top;\n",
       "    }\n",
       "\n",
       "    .dataframe thead th {\n",
       "        text-align: right;\n",
       "    }\n",
       "</style>\n",
       "<table border=\"1\" class=\"dataframe\">\n",
       "  <thead>\n",
       "    <tr style=\"text-align: right;\">\n",
       "      <th></th>\n",
       "      <th>Date</th>\n",
       "      <th>Open</th>\n",
       "      <th>High</th>\n",
       "      <th>Low</th>\n",
       "      <th>Close</th>\n",
       "      <th>Volume</th>\n",
       "    </tr>\n",
       "  </thead>\n",
       "  <tbody>\n",
       "    <tr>\n",
       "      <th>0</th>\n",
       "      <td>2/25/2022</td>\n",
       "      <td>163.84</td>\n",
       "      <td>165.12</td>\n",
       "      <td>160.87</td>\n",
       "      <td>164.85</td>\n",
       "      <td>91,974,227</td>\n",
       "    </tr>\n",
       "    <tr>\n",
       "      <th>1</th>\n",
       "      <td>2/24/2022</td>\n",
       "      <td>152.58</td>\n",
       "      <td>162.85</td>\n",
       "      <td>152.00</td>\n",
       "      <td>162.74</td>\n",
       "      <td>141,147,500</td>\n",
       "    </tr>\n",
       "    <tr>\n",
       "      <th>2</th>\n",
       "      <td>2/23/2022</td>\n",
       "      <td>165.54</td>\n",
       "      <td>166.15</td>\n",
       "      <td>159.75</td>\n",
       "      <td>160.07</td>\n",
       "      <td>90,009,250</td>\n",
       "    </tr>\n",
       "    <tr>\n",
       "      <th>3</th>\n",
       "      <td>2/22/2022</td>\n",
       "      <td>164.98</td>\n",
       "      <td>166.69</td>\n",
       "      <td>162.15</td>\n",
       "      <td>164.32</td>\n",
       "      <td>91,162,758</td>\n",
       "    </tr>\n",
       "    <tr>\n",
       "      <th>4</th>\n",
       "      <td>2/18/2022</td>\n",
       "      <td>169.82</td>\n",
       "      <td>170.54</td>\n",
       "      <td>166.19</td>\n",
       "      <td>167.30</td>\n",
       "      <td>82,772,672</td>\n",
       "    </tr>\n",
       "  </tbody>\n",
       "</table>\n",
       "</div>"
      ],
      "text/plain": [
       "        Date    Open    High     Low   Close       Volume\n",
       "0  2/25/2022  163.84  165.12  160.87  164.85   91,974,227\n",
       "1  2/24/2022  152.58  162.85  152.00  162.74  141,147,500\n",
       "2  2/23/2022  165.54  166.15  159.75  160.07   90,009,250\n",
       "3  2/22/2022  164.98  166.69  162.15  164.32   91,162,758\n",
       "4  2/18/2022  169.82  170.54  166.19  167.30   82,772,672"
      ]
     },
     "execution_count": 5,
     "metadata": {},
     "output_type": "execute_result"
    }
   ],
   "source": [
    "df.head()"
   ]
  },
  {
   "cell_type": "code",
   "execution_count": 10,
   "id": "b3798af2",
   "metadata": {},
   "outputs": [
    {
     "data": {
      "text/plain": [
       "163.84"
      ]
     },
     "execution_count": 10,
     "metadata": {},
     "output_type": "execute_result"
    }
   ],
   "source": [
    "df[\"sectionId\"] = df[\"sections\"].split(\"sectionId\")"
   ]
  },
  {
   "cell_type": "code",
   "execution_count": null,
   "id": "36a9590b",
   "metadata": {},
   "outputs": [],
   "source": []
  },
  {
   "cell_type": "code",
   "execution_count": null,
   "id": "4ca4d22e",
   "metadata": {},
   "outputs": [],
   "source": []
  },
  {
   "cell_type": "code",
   "execution_count": null,
   "id": "0240d6b9",
   "metadata": {},
   "outputs": [],
   "source": []
  },
  {
   "cell_type": "code",
   "execution_count": null,
   "id": "22062a49",
   "metadata": {},
   "outputs": [],
   "source": [
    "for number in range(1,79):\n",
    "    inputfile = \"filename\" + str(number) + \".json\"\n",
    "    outputfile = \"filename\" + str(number) + \".csv\"\n",
    "    \n",
    "    pd.read_json(inputfile).to_csv(outputfile)\n",
    "\n"
   ]
  },
  {
   "cell_type": "code",
   "execution_count": 32,
   "id": "5f4cf622",
   "metadata": {},
   "outputs": [
    {
     "data": {
      "text/plain": [
       "'filename46.json'"
      ]
     },
     "execution_count": 32,
     "metadata": {},
     "output_type": "execute_result"
    }
   ],
   "source": [
    "string = \"filename\" + str(46) + \".json\"\n",
    "string"
   ]
  },
  {
   "cell_type": "code",
   "execution_count": null,
   "id": "2cefb76d",
   "metadata": {},
   "outputs": [],
   "source": []
  },
  {
   "cell_type": "code",
   "execution_count": null,
   "id": "efb1ec7c",
   "metadata": {},
   "outputs": [],
   "source": []
  },
  {
   "cell_type": "code",
   "execution_count": null,
   "id": "8d7f5a1c",
   "metadata": {},
   "outputs": [],
   "source": []
  },
  {
   "cell_type": "code",
   "execution_count": null,
   "id": "c58163de",
   "metadata": {},
   "outputs": [],
   "source": []
  },
  {
   "cell_type": "code",
   "execution_count": null,
   "id": "3af6c318",
   "metadata": {},
   "outputs": [],
   "source": []
  },
  {
   "cell_type": "code",
   "execution_count": null,
   "id": "92ea4ad0",
   "metadata": {},
   "outputs": [],
   "source": [
    "df = pd.read_csv(\"apple.csv\")"
   ]
  },
  {
   "cell_type": "code",
   "execution_count": 20,
   "id": "15bdbdd1",
   "metadata": {},
   "outputs": [
    {
     "data": {
      "text/html": [
       "<div>\n",
       "<style scoped>\n",
       "    .dataframe tbody tr th:only-of-type {\n",
       "        vertical-align: middle;\n",
       "    }\n",
       "\n",
       "    .dataframe tbody tr th {\n",
       "        vertical-align: top;\n",
       "    }\n",
       "\n",
       "    .dataframe thead th {\n",
       "        text-align: right;\n",
       "    }\n",
       "</style>\n",
       "<table border=\"1\" class=\"dataframe\">\n",
       "  <thead>\n",
       "    <tr style=\"text-align: right;\">\n",
       "      <th></th>\n",
       "      <th>Date</th>\n",
       "      <th>Open</th>\n",
       "      <th>High</th>\n",
       "      <th>Low</th>\n",
       "      <th>Close</th>\n",
       "      <th>Volume</th>\n",
       "    </tr>\n",
       "  </thead>\n",
       "  <tbody>\n",
       "    <tr>\n",
       "      <th>0</th>\n",
       "      <td>2/25/2022</td>\n",
       "      <td>163.84</td>\n",
       "      <td>165.12</td>\n",
       "      <td>160.87</td>\n",
       "      <td>164.85</td>\n",
       "      <td>91,974,227</td>\n",
       "    </tr>\n",
       "    <tr>\n",
       "      <th>1</th>\n",
       "      <td>2/24/2022</td>\n",
       "      <td>152.58</td>\n",
       "      <td>162.85</td>\n",
       "      <td>152.00</td>\n",
       "      <td>162.74</td>\n",
       "      <td>141,147,500</td>\n",
       "    </tr>\n",
       "    <tr>\n",
       "      <th>2</th>\n",
       "      <td>2/23/2022</td>\n",
       "      <td>165.54</td>\n",
       "      <td>166.15</td>\n",
       "      <td>159.75</td>\n",
       "      <td>160.07</td>\n",
       "      <td>90,009,250</td>\n",
       "    </tr>\n",
       "    <tr>\n",
       "      <th>3</th>\n",
       "      <td>2/22/2022</td>\n",
       "      <td>164.98</td>\n",
       "      <td>166.69</td>\n",
       "      <td>162.15</td>\n",
       "      <td>164.32</td>\n",
       "      <td>91,162,758</td>\n",
       "    </tr>\n",
       "    <tr>\n",
       "      <th>4</th>\n",
       "      <td>2/18/2022</td>\n",
       "      <td>169.82</td>\n",
       "      <td>170.54</td>\n",
       "      <td>166.19</td>\n",
       "      <td>167.30</td>\n",
       "      <td>82,772,672</td>\n",
       "    </tr>\n",
       "  </tbody>\n",
       "</table>\n",
       "</div>"
      ],
      "text/plain": [
       "        Date    Open    High     Low   Close       Volume\n",
       "0  2/25/2022  163.84  165.12  160.87  164.85   91,974,227\n",
       "1  2/24/2022  152.58  162.85  152.00  162.74  141,147,500\n",
       "2  2/23/2022  165.54  166.15  159.75  160.07   90,009,250\n",
       "3  2/22/2022  164.98  166.69  162.15  164.32   91,162,758\n",
       "4  2/18/2022  169.82  170.54  166.19  167.30   82,772,672"
      ]
     },
     "execution_count": 20,
     "metadata": {},
     "output_type": "execute_result"
    }
   ],
   "source": [
    "df.head()"
   ]
  },
  {
   "cell_type": "code",
   "execution_count": 20,
   "id": "bf445896",
   "metadata": {},
   "outputs": [
    {
     "data": {
      "text/plain": [
       "Date       object\n",
       "Open      float64\n",
       "High      float64\n",
       "Low       float64\n",
       "Close     float64\n",
       "Volume     object\n",
       "dtype: object"
      ]
     },
     "execution_count": 20,
     "metadata": {},
     "output_type": "execute_result"
    }
   ],
   "source": [
    "df.dtypes"
   ]
  },
  {
   "cell_type": "code",
   "execution_count": 21,
   "id": "4c80eb34",
   "metadata": {},
   "outputs": [
    {
     "data": {
      "text/html": [
       "<div>\n",
       "<style scoped>\n",
       "    .dataframe tbody tr th:only-of-type {\n",
       "        vertical-align: middle;\n",
       "    }\n",
       "\n",
       "    .dataframe tbody tr th {\n",
       "        vertical-align: top;\n",
       "    }\n",
       "\n",
       "    .dataframe thead th {\n",
       "        text-align: right;\n",
       "    }\n",
       "</style>\n",
       "<table border=\"1\" class=\"dataframe\">\n",
       "  <thead>\n",
       "    <tr style=\"text-align: right;\">\n",
       "      <th></th>\n",
       "      <th>Open</th>\n",
       "      <th>High</th>\n",
       "      <th>Low</th>\n",
       "      <th>Close</th>\n",
       "      <th>Volume</th>\n",
       "    </tr>\n",
       "    <tr>\n",
       "      <th>Date</th>\n",
       "      <th></th>\n",
       "      <th></th>\n",
       "      <th></th>\n",
       "      <th></th>\n",
       "      <th></th>\n",
       "    </tr>\n",
       "  </thead>\n",
       "  <tbody>\n",
       "    <tr>\n",
       "      <th>2019-02-25</th>\n",
       "      <td>43.54</td>\n",
       "      <td>43.97</td>\n",
       "      <td>43.49</td>\n",
       "      <td>43.56</td>\n",
       "      <td>87493436.0</td>\n",
       "    </tr>\n",
       "    <tr>\n",
       "      <th>2019-02-26</th>\n",
       "      <td>43.43</td>\n",
       "      <td>43.83</td>\n",
       "      <td>43.29</td>\n",
       "      <td>43.58</td>\n",
       "      <td>68280844.0</td>\n",
       "    </tr>\n",
       "    <tr>\n",
       "      <th>2019-02-27</th>\n",
       "      <td>43.30</td>\n",
       "      <td>43.75</td>\n",
       "      <td>43.18</td>\n",
       "      <td>43.72</td>\n",
       "      <td>111341564.0</td>\n",
       "    </tr>\n",
       "    <tr>\n",
       "      <th>2019-02-28</th>\n",
       "      <td>43.58</td>\n",
       "      <td>43.73</td>\n",
       "      <td>43.23</td>\n",
       "      <td>43.29</td>\n",
       "      <td>112861680.0</td>\n",
       "    </tr>\n",
       "    <tr>\n",
       "      <th>2019-03-01</th>\n",
       "      <td>43.57</td>\n",
       "      <td>43.79</td>\n",
       "      <td>43.22</td>\n",
       "      <td>43.74</td>\n",
       "      <td>103544680.0</td>\n",
       "    </tr>\n",
       "  </tbody>\n",
       "</table>\n",
       "</div>"
      ],
      "text/plain": [
       "             Open   High    Low  Close       Volume\n",
       "Date                                               \n",
       "2019-02-25  43.54  43.97  43.49  43.56   87493436.0\n",
       "2019-02-26  43.43  43.83  43.29  43.58   68280844.0\n",
       "2019-02-27  43.30  43.75  43.18  43.72  111341564.0\n",
       "2019-02-28  43.58  43.73  43.23  43.29  112861680.0\n",
       "2019-03-01  43.57  43.79  43.22  43.74  103544680.0"
      ]
     },
     "execution_count": 21,
     "metadata": {},
     "output_type": "execute_result"
    }
   ],
   "source": [
    "df[\"Date\"] = pd.to_datetime(df[\"Date\"])\n",
    "df.sort_values(\"Date\", ascending=True, inplace=True)\n",
    "df.set_index(\"Date\", inplace=True)\n",
    "df[\"Volume\"] = df[\"Volume\"].apply(lambda x: float(x.replace(\",\", \"\")))\n",
    "df.head()"
   ]
  },
  {
   "cell_type": "code",
   "execution_count": 22,
   "id": "674cb836",
   "metadata": {},
   "outputs": [
    {
     "data": {
      "text/html": [
       "<div>\n",
       "<style scoped>\n",
       "    .dataframe tbody tr th:only-of-type {\n",
       "        vertical-align: middle;\n",
       "    }\n",
       "\n",
       "    .dataframe tbody tr th {\n",
       "        vertical-align: top;\n",
       "    }\n",
       "\n",
       "    .dataframe thead th {\n",
       "        text-align: right;\n",
       "    }\n",
       "</style>\n",
       "<table border=\"1\" class=\"dataframe\">\n",
       "  <thead>\n",
       "    <tr style=\"text-align: right;\">\n",
       "      <th></th>\n",
       "      <th>Open</th>\n",
       "      <th>High</th>\n",
       "      <th>Low</th>\n",
       "      <th>Close</th>\n",
       "      <th>Volume</th>\n",
       "      <th>SMA</th>\n",
       "      <th>RSI</th>\n",
       "      <th>OBV</th>\n",
       "    </tr>\n",
       "    <tr>\n",
       "      <th>Date</th>\n",
       "      <th></th>\n",
       "      <th></th>\n",
       "      <th></th>\n",
       "      <th></th>\n",
       "      <th></th>\n",
       "      <th></th>\n",
       "      <th></th>\n",
       "      <th></th>\n",
       "    </tr>\n",
       "  </thead>\n",
       "  <tbody>\n",
       "    <tr>\n",
       "      <th>2019-02-25</th>\n",
       "      <td>43.54</td>\n",
       "      <td>43.97</td>\n",
       "      <td>43.49</td>\n",
       "      <td>43.56</td>\n",
       "      <td>87493436.0</td>\n",
       "      <td>0.0</td>\n",
       "      <td>0.00000</td>\n",
       "      <td>0.0</td>\n",
       "    </tr>\n",
       "    <tr>\n",
       "      <th>2019-02-26</th>\n",
       "      <td>43.43</td>\n",
       "      <td>43.83</td>\n",
       "      <td>43.29</td>\n",
       "      <td>43.58</td>\n",
       "      <td>68280844.0</td>\n",
       "      <td>0.0</td>\n",
       "      <td>100.00000</td>\n",
       "      <td>68280844.0</td>\n",
       "    </tr>\n",
       "    <tr>\n",
       "      <th>2019-02-27</th>\n",
       "      <td>43.30</td>\n",
       "      <td>43.75</td>\n",
       "      <td>43.18</td>\n",
       "      <td>43.72</td>\n",
       "      <td>111341564.0</td>\n",
       "      <td>0.0</td>\n",
       "      <td>100.00000</td>\n",
       "      <td>179622408.0</td>\n",
       "    </tr>\n",
       "    <tr>\n",
       "      <th>2019-02-28</th>\n",
       "      <td>43.58</td>\n",
       "      <td>43.73</td>\n",
       "      <td>43.23</td>\n",
       "      <td>43.29</td>\n",
       "      <td>112861680.0</td>\n",
       "      <td>0.0</td>\n",
       "      <td>25.50822</td>\n",
       "      <td>66760728.0</td>\n",
       "    </tr>\n",
       "    <tr>\n",
       "      <th>2019-03-01</th>\n",
       "      <td>43.57</td>\n",
       "      <td>43.79</td>\n",
       "      <td>43.22</td>\n",
       "      <td>43.74</td>\n",
       "      <td>103544680.0</td>\n",
       "      <td>0.0</td>\n",
       "      <td>59.50503</td>\n",
       "      <td>170305408.0</td>\n",
       "    </tr>\n",
       "  </tbody>\n",
       "</table>\n",
       "</div>"
      ],
      "text/plain": [
       "             Open   High    Low  Close       Volume  SMA        RSI  \\\n",
       "Date                                                                  \n",
       "2019-02-25  43.54  43.97  43.49  43.56   87493436.0  0.0    0.00000   \n",
       "2019-02-26  43.43  43.83  43.29  43.58   68280844.0  0.0  100.00000   \n",
       "2019-02-27  43.30  43.75  43.18  43.72  111341564.0  0.0  100.00000   \n",
       "2019-02-28  43.58  43.73  43.23  43.29  112861680.0  0.0   25.50822   \n",
       "2019-03-01  43.57  43.79  43.22  43.74  103544680.0  0.0   59.50503   \n",
       "\n",
       "                    OBV  \n",
       "Date                     \n",
       "2019-02-25          0.0  \n",
       "2019-02-26   68280844.0  \n",
       "2019-02-27  179622408.0  \n",
       "2019-02-28   66760728.0  \n",
       "2019-03-01  170305408.0  "
      ]
     },
     "execution_count": 22,
     "metadata": {},
     "output_type": "execute_result"
    }
   ],
   "source": [
    "df[\"SMA\"] = TA.SMA(df, 12)\n",
    "df[\"RSI\"] = TA.RSI(df)\n",
    "df[\"OBV\"] = TA.OBV(df)\n",
    "df.fillna(0, inplace=True)\n",
    "df.head()"
   ]
  },
  {
   "cell_type": "code",
   "execution_count": 23,
   "id": "8d7f94e0",
   "metadata": {},
   "outputs": [],
   "source": [
    "window_frame = 30\n",
    "\n",
    "all_frame = (window_frame, len(df))\n",
    "# train_frame = (window_frame,int(len(df)*0.7))\n",
    "train_frame = (int(len(df)*0.33),int(len(df)*0.7))\n",
    "test_frame = (int(len(df)*0.7),int(len(df)))\n",
    "train_steps = 10000"
   ]
  },
  {
   "cell_type": "code",
   "execution_count": 24,
   "id": "03aa929f",
   "metadata": {},
   "outputs": [],
   "source": [
    "def add_signals(env):\n",
    "    start = env.frame_bound[0] - env.window_size\n",
    "    end = env.frame_bound[1]\n",
    "    prices = env.df.loc[:, \"Low\"].to_numpy()[start:end]\n",
    "    signal_features = env.df.loc[:, [\"Open\", \"High\", \"Low\", \"Close\", \"Volume\", \"SMA\", \"RSI\", \"OBV\"]].to_numpy()[start:end] # Can add more features\n",
    "#     signal_features = env.df.loc[:, [\"Low\", \"Volume\", \"SMA\", \"RSI\", \"OBV\"]].to_numpy()[start:end] # Can add more features\n",
    "    return prices, signal_features"
   ]
  },
  {
   "cell_type": "code",
   "execution_count": 25,
   "id": "bedd338f",
   "metadata": {},
   "outputs": [],
   "source": [
    "class MyCustomEnv(StocksEnv):\n",
    "    _process_data = add_signals\n",
    "\n",
    "env = MyCustomEnv(df=df, window_size=window_frame, frame_bound=train_frame)\n",
    "states = env.observation_space.shape\n",
    "actions = env.action_space.n"
   ]
  },
  {
   "cell_type": "markdown",
   "id": "790ca56f",
   "metadata": {},
   "source": [
    "# Deep Learning Model with Keras"
   ]
  },
  {
   "cell_type": "code",
   "execution_count": 26,
   "id": "03b536dd",
   "metadata": {},
   "outputs": [],
   "source": [
    "from tensorflow.keras.models import Sequential\n",
    "from tensorflow.keras.layers import Dense, Flatten\n",
    "from tensorflow.keras.optimizers import Adam\n",
    "\n",
    "from tensorflow.keras.layers import Dense,Dropout,BatchNormalization,Conv1D,Flatten,MaxPooling1D,LSTM,Reshape"
   ]
  },
  {
   "cell_type": "code",
   "execution_count": 27,
   "id": "53ca9150",
   "metadata": {},
   "outputs": [],
   "source": [
    "def build_model(states, actions):\n",
    "    model = Sequential()\n",
    "    \n",
    "    model.add(Flatten(input_shape=(1,) + states))\n",
    "    model.add(Dense(512, activation=\"relu\"))\n",
    "    model.add(Dense(512, activation=\"relu\"))\n",
    "    model.add(Dense(256, activation=\"relu\"))\n",
    "    model.add(Dense(64, activation=\"relu\"))\n",
    "    model.add(Dense(actions, activation=\"linear\"))\n",
    "    \n",
    "    \n",
    "    model.compile(optimizer='adam',loss='mean_squared_error')\n",
    "\n",
    "\n",
    "    \n",
    "    return model"
   ]
  },
  {
   "cell_type": "code",
   "execution_count": 28,
   "id": "84c744de",
   "metadata": {},
   "outputs": [],
   "source": [
    "model = build_model(states, actions)"
   ]
  },
  {
   "cell_type": "code",
   "execution_count": 29,
   "id": "f754f98c",
   "metadata": {},
   "outputs": [
    {
     "name": "stdout",
     "output_type": "stream",
     "text": [
      "Model: \"sequential_1\"\n",
      "_________________________________________________________________\n",
      " Layer (type)                Output Shape              Param #   \n",
      "=================================================================\n",
      " flatten_1 (Flatten)         (None, 240)               0         \n",
      "                                                                 \n",
      " dense_5 (Dense)             (None, 512)               123392    \n",
      "                                                                 \n",
      " dense_6 (Dense)             (None, 512)               262656    \n",
      "                                                                 \n",
      " dense_7 (Dense)             (None, 256)               131328    \n",
      "                                                                 \n",
      " dense_8 (Dense)             (None, 64)                16448     \n",
      "                                                                 \n",
      " dense_9 (Dense)             (None, 2)                 130       \n",
      "                                                                 \n",
      "=================================================================\n",
      "Total params: 533,954\n",
      "Trainable params: 533,954\n",
      "Non-trainable params: 0\n",
      "_________________________________________________________________\n"
     ]
    }
   ],
   "source": [
    "model.summary()"
   ]
  },
  {
   "cell_type": "markdown",
   "id": "1b2c3f4b",
   "metadata": {},
   "source": [
    "# Keras-RL Agent"
   ]
  },
  {
   "cell_type": "code",
   "execution_count": 30,
   "id": "147a51b1",
   "metadata": {},
   "outputs": [],
   "source": [
    "from rl.agents import DQNAgent\n",
    "from rl.policy import BoltzmannQPolicy\n",
    "from rl.policy import GreedyQPolicy\n",
    "from rl.memory import SequentialMemory"
   ]
  },
  {
   "cell_type": "code",
   "execution_count": 31,
   "id": "5c136f58",
   "metadata": {},
   "outputs": [],
   "source": [
    "def build_agent(model, actions):\n",
    "    policy = BoltzmannQPolicy()\n",
    "#     policy = GreedyQPolicy()\n",
    "    memory = SequentialMemory(limit=50000, window_length=1)\n",
    "    dqn = DQNAgent(model=model, memory=memory, policy=policy, nb_actions=actions, nb_steps_warmup=10, target_model_update=1e-2)\n",
    "    return dqn"
   ]
  },
  {
   "cell_type": "code",
   "execution_count": 32,
   "id": "c461abf5",
   "metadata": {},
   "outputs": [
    {
     "name": "stderr",
     "output_type": "stream",
     "text": [
      "C:\\Users\\jacky\\anaconda3\\lib\\site-packages\\keras\\optimizer_v2\\adam.py:105: UserWarning: The `lr` argument is deprecated, use `learning_rate` instead.\n",
      "  super(Adam, self).__init__(name, **kwargs)\n",
      "C:\\Users\\jacky\\anaconda3\\lib\\site-packages\\keras\\engine\\training_v1.py:2079: UserWarning: `Model.state_updates` will be removed in a future version. This property should not be used in TensorFlow 2.0, as `updates` are applied automatically.\n",
      "  updates=self.state_updates,\n",
      "C:\\Users\\jacky\\anaconda3\\lib\\site-packages\\rl\\memory.py:37: UserWarning: Not enough entries to sample without replacement. Consider increasing your warm-up phase to avoid oversampling!\n",
      "  warnings.warn('Not enough entries to sample without replacement. Consider increasing your warm-up phase to avoid oversampling!')\n"
     ]
    },
    {
     "data": {
      "text/plain": [
       "<keras.callbacks.History at 0x1cce2187b50>"
      ]
     },
     "execution_count": 32,
     "metadata": {},
     "output_type": "execute_result"
    }
   ],
   "source": [
    "dqn = build_agent(model, actions)\n",
    "dqn.compile(Adam(lr=1e-3), metrics=['mae'])\n",
    "dqn.fit(env, nb_steps=train_steps, visualize=False, verbose=0)"
   ]
  },
  {
   "cell_type": "code",
   "execution_count": 33,
   "id": "6d3cef8f",
   "metadata": {},
   "outputs": [
    {
     "data": {
      "image/png": "[encoded data removed]",
      "text/plain": [
       "<Figure size 1080x432 with 1 Axes>"
      ]
     },
     "metadata": {
      "needs_background": "light"
     },
     "output_type": "display_data"
    }
   ],
   "source": [
    "# Train Set Evaluation\n",
    "env = MyCustomEnv(df=df, window_size=window_frame, frame_bound=train_frame)\n",
    "dqn.test(env, nb_episodes=1, visualize=False, verbose=0)\n",
    "\n",
    "plt.figure(figsize=(15,6))\n",
    "plt.cla()\n",
    "env.render_all()\n",
    "plt.show()"
   ]
  },
  {
   "cell_type": "code",
   "execution_count": 34,
   "id": "14b9adb7",
   "metadata": {},
   "outputs": [
    {
     "data": {
      "image/png": "[encoded data removed]",
      "text/plain": [
       "<Figure size 1080x432 with 1 Axes>"
      ]
     },
     "metadata": {
      "needs_background": "light"
     },
     "output_type": "display_data"
    }
   ],
   "source": [
    "# Test Set Evaluation\n",
    "env = MyCustomEnv(df=df, window_size=window_frame, frame_bound=test_frame)\n",
    "dqn.test(env, nb_episodes=1, visualize=False, verbose=0)\n",
    "\n",
    "plt.figure(figsize=(15,6))\n",
    "plt.cla()\n",
    "env.render_all()\n",
    "plt.show()"
   ]
  },
  {
   "cell_type": "code",
   "execution_count": null,
   "id": "6dbf196d",
   "metadata": {},
   "outputs": [],
   "source": []
  },
  {
   "cell_type": "code",
   "execution_count": null,
   "id": "9a3a0ed1",
   "metadata": {},
   "outputs": [],
   "source": []
  },
  {
   "cell_type": "code",
   "execution_count": null,
   "id": "ea1c2aab",
   "metadata": {},
   "outputs": [],
   "source": []
  }
 ],
 "metadata": {
  "kernelspec": {
   "display_name": "Python 3",
   "language": "python",
   "name": "python3"
  },
  "language_info": {
   "codemirror_mode": {
    "name": "ipython",
    "version": 3
   },
   "file_extension": ".py",
   "mimetype": "text/x-python",
   "name": "python",
   "nbconvert_exporter": "python",
   "pygments_lexer": "ipython3",
   "version": "3.8.8"
  }
 },
 "nbformat": 4,
 "nbformat_minor": 5
}
